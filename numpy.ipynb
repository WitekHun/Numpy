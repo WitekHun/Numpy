{
 "cells": [
  {
   "cell_type": "markdown",
   "id": "0ea1ee88",
   "metadata": {},
   "source": [
    "# Zadanie 7.6"
   ]
  },
  {
   "cell_type": "code",
   "execution_count": 49,
   "id": "098288b3",
   "metadata": {},
   "outputs": [],
   "source": [
    "import numpy as np\n",
    "#!pip install numpy-financial\n",
    "#!pip install matplotlib\n",
    "import numpy_financial as npf\n",
    "import matplotlib.pyplot as plt"
   ]
  },
  {
   "cell_type": "markdown",
   "id": "6cabde3c",
   "metadata": {},
   "source": [
    "## Dane wejściowe"
   ]
  },
  {
   "cell_type": "code",
   "execution_count": 50,
   "id": "dd2d0c07",
   "metadata": {},
   "outputs": [],
   "source": [
    "pv = 120000         #cena początkowa\n",
    "price_rate = 0.05   #wzrost ceny o 5% rocznie\n",
    "years = 5           #okres oszczędzania\n",
    "capital_rate = 0.12 #oprocentowanie 12@ oszczędności kapitalizacja miesięczna\n",
    "freq = 12           #częstotliwość kapitalizacji oszczędności w roku"
   ]
  },
  {
   "cell_type": "code",
   "execution_count": 51,
   "id": "113a52f9",
   "metadata": {},
   "outputs": [],
   "source": [
    "capital_rate /= freq  #miesięczne oprocentowanie oszczędności\n",
    "nper = years * freq   #liczba okresów kapitalizacji oszczędności\n",
    "periods = np.arange(1, nper+1,dtype=int)\n",
    "price_periods = np.arange(1, years + 1, dtype=int)"
   ]
  },
  {
   "cell_type": "markdown",
   "id": "0f0fa1d8",
   "metadata": {},
   "source": [
    "## Obliczenia"
   ]
  },
  {
   "cell_type": "code",
   "execution_count": 52,
   "id": "52f48ce0",
   "metadata": {},
   "outputs": [],
   "source": [
    "price = -np.around(npf.fv(price_rate,price_periods,0,pv),2) #cena mieszkania po roku, 2 latach, ... 5 latach\n",
    "price = np.insert(price, 0, 120000.00)  #cena mieszkania na początku oszczędzania, po roku ,... 5 latach\n",
    "end_price = price[-1]\n",
    "print(f'Cena końcowa po 5 latach {end_price}zł')"
   ]
  },
  {
   "cell_type": "code",
   "execution_count": null,
   "id": "abc5898c",
   "metadata": {},
   "outputs": [],
   "source": [
    "predicted_payment = np.arange(1850, 1900, 0.01)\n",
    "arr = np.where((-np.around(npf.fv(capital_rate, 60, predicted_payment, 0), 0) == np.around(end_price, 0)),predicted_payment,0)\n",
    "index_arr = np.argwhere(arr != 0)\n",
    "monthly_payment = np.around(arr.item(index_arr.item(0)), 2)\n",
    "print(f\"Minimalna miesięczna wpłata {monthly_payment}zł\")\n",
    "end_value = -np.around(npf.fv(capital_rate, 60, monthly_payment, 0), 2)\n",
    "print(f\"Oszczędności po 5 latach {end_value}zł\")"
   ]
  },
  {
   "cell_type": "raw",
   "id": "2c35d082",
   "metadata": {},
   "source": [
    "Wyliczona cena mieszkania po 5 latach:   153153.79zł\n",
    "Wyliczona konieczna miesięczna wpłata 1875.29zł (po 5 latach oszczędzania daje 153154.32zł)"
   ]
  },
  {
   "cell_type": "code",
   "execution_count": null,
   "id": "9fc0c95e",
   "metadata": {},
   "outputs": [],
   "source": [
    "capital_value = -np.around(npf.fv(capital_rate,periods,monthly_payment,0,),2)\n",
    "end_value = -np.around(npf.fv(capital_rate,60,monthly_payment,0),2)\n",
    "capital_value, end_value"
   ]
  },
  {
   "cell_type": "markdown",
   "id": "28b21efa",
   "metadata": {},
   "source": [
    "## Wziualizacja wyników"
   ]
  },
  {
   "cell_type": "code",
   "execution_count": null,
   "id": "71cf2900",
   "metadata": {},
   "outputs": [],
   "source": [
    "plt.plot(np.arange(0,61,12), price, label='cena')\n",
    "plt.plot(periods, capital_value,label='oszczędności')\n",
    "plt.legend()\n",
    "plt.xlabel('Liczba okresów w miesiącach')\n",
    "plt.ylabel('Kwota [zł]')"
   ]
  },
  {
   "cell_type": "markdown",
   "id": "304a3446",
   "metadata": {},
   "source": [
    "## Wyniki: \n",
    "Wyliczona cena mieszkania po 5 latach:   153153.79zł\n",
    "\n",
    "Wyliczona konieczna miesięczna wpłata 1875.29zł (po 5 latach oszczędzania daje 153154.32zł)"
   ]
  }
 ],
 "metadata": {
  "kernelspec": {
   "display_name": "Python 3 (ipykernel)",
   "language": "python",
   "name": "python3"
  },
  "language_info": {
   "codemirror_mode": {
    "name": "ipython",
    "version": 3
   },
   "file_extension": ".py",
   "mimetype": "text/x-python",
   "name": "python",
   "nbconvert_exporter": "python",
   "pygments_lexer": "ipython3",
   "version": "3.11.1"
  }
 },
 "nbformat": 4,
 "nbformat_minor": 5
}
